{
  "cells": [
    {
      "cell_type": "markdown",
      "metadata": {
        "id": "zeuAJsJ_53kf"
      },
      "source": [
        "#**TASK-01**"
      ]
    },
    {
      "cell_type": "markdown",
      "source": [
        "#**Importing Libraries**"
      ],
      "metadata": {
        "id": "k-whQIofy1Mf"
      }
    },
    {
      "cell_type": "code",
      "execution_count": null,
      "metadata": {
        "id": "PWFaiBRo50ag"
      },
      "outputs": [],
      "source": [
        "import pandas as pd\n",
        "from google.colab import drive\n",
        "drive.mount('/content/drive')"
      ]
    },
    {
      "cell_type": "markdown",
      "source": [
        "# **Loading Datasets**"
      ],
      "metadata": {
        "id": "Fw5DMFsrzBLt"
      }
    },
    {
      "cell_type": "code",
      "execution_count": 24,
      "metadata": {
        "id": "huSyXI3I6IqJ"
      },
      "outputs": [],
      "source": [
        "train_df = pd.read_csv('/content/drive/MyDrive/code/train.csv')\n",
        "test_df = pd.read_csv('/content/drive/MyDrive/code/test.csv')"
      ]
    },
    {
      "cell_type": "code",
      "source": [
        "train_df.head()"
      ],
      "metadata": {
        "id": "eAZH7N79krCb"
      },
      "execution_count": null,
      "outputs": []
    },
    {
      "cell_type": "code",
      "source": [
        "train_df.columns"
      ],
      "metadata": {
        "id": "S0kvHtjzs_X_"
      },
      "execution_count": null,
      "outputs": []
    },
    {
      "cell_type": "markdown",
      "source": [
        "# **Select relevant features**"
      ],
      "metadata": {
        "id": "lOzgm_sGzMYu"
      }
    },
    {
      "cell_type": "code",
      "source": [
        "y=train_df['SalePrice']\n",
        "X=train_df[['GrLivArea', 'BedroomAbvGr', 'FullBath']]"
      ],
      "metadata": {
        "id": "RqhaiPK8kEZ0"
      },
      "execution_count": 61,
      "outputs": []
    },
    {
      "cell_type": "markdown",
      "source": [
        "#**Split data into training and testing sets**"
      ],
      "metadata": {
        "id": "kUvje_8LzYE3"
      }
    },
    {
      "cell_type": "code",
      "source": [
        "X_train, X_test, y_train, y_test = train_test_split(X, y, test_size=0.2, random_state=42)"
      ],
      "metadata": {
        "id": "o7SsdQ5ywcNh"
      },
      "execution_count": 52,
      "outputs": []
    },
    {
      "cell_type": "markdown",
      "source": [
        "# **Create a Linear Regression Model**"
      ],
      "metadata": {
        "id": "n0T5Kbyyzlm2"
      }
    },
    {
      "cell_type": "code",
      "source": [
        "model = LinearRegression()"
      ],
      "metadata": {
        "id": "J8hJrbG5wf6w"
      },
      "execution_count": 65,
      "outputs": []
    },
    {
      "cell_type": "markdown",
      "source": [
        "# **Train the model**"
      ],
      "metadata": {
        "id": "Xk7Y5Mzbz3Q8"
      }
    },
    {
      "cell_type": "code",
      "source": [
        "model.fit(X_train, y_train)"
      ],
      "metadata": {
        "id": "lkP_MkdgwhIi"
      },
      "execution_count": null,
      "outputs": []
    },
    {
      "cell_type": "markdown",
      "source": [
        "# **Make predictions**"
      ],
      "metadata": {
        "id": "vS0JEZ5g0HU7"
      }
    },
    {
      "cell_type": "code",
      "source": [
        "y_pred = model.predict(X_test)\n",
        "y_pred"
      ],
      "metadata": {
        "id": "R8CgA3NywqT5"
      },
      "execution_count": null,
      "outputs": []
    },
    {
      "cell_type": "markdown",
      "source": [
        "# **Evaluating the model**"
      ],
      "metadata": {
        "id": "AUWSgURM0MWk"
      }
    },
    {
      "cell_type": "code",
      "source": [
        "mse = mean_squared_error(y_test, y_pred)\n",
        "rmse = np.sqrt(mse)\n",
        "print(f'RMSE: {rmse}')"
      ],
      "metadata": {
        "id": "rKdD6XaTwqVL"
      },
      "execution_count": null,
      "outputs": []
    },
    {
      "cell_type": "markdown",
      "source": [
        "# **Use the model to predict prices for the test data**"
      ],
      "metadata": {
        "id": "HB_cYjZ80R_6"
      }
    },
    {
      "cell_type": "code",
      "source": [
        "test_df = pd.read_csv('/content/drive/MyDrive/code/test.csv')\n",
        "test_pred = model.predict(test_df[['GrLivArea', 'BedroomAbvGr', 'FullBath']])\n"
      ],
      "metadata": {
        "id": "8R9QDR4Nw9aU"
      },
      "execution_count": 57,
      "outputs": []
    },
    {
      "cell_type": "markdown",
      "source": [
        "# **Save the predictions to a csv file**"
      ],
      "metadata": {
        "id": "AAVXVTKD0ZVs"
      }
    },
    {
      "cell_type": "code",
      "source": [
        "submission_df = pd.DataFrame({'Id': test_df['Id'], 'SalePrice': test_pred})\n",
        "submission_df.to_csv('submission.csv', index=False)"
      ],
      "metadata": {
        "id": "rlGCHvh9ydYw"
      },
      "execution_count": 58,
      "outputs": []
    },
    {
      "cell_type": "code",
      "source": [
        "print(pd.read_csv('submission.csv'))"
      ],
      "metadata": {
        "id": "LgwEttb2ylzO"
      },
      "execution_count": null,
      "outputs": []
    }
  ],
  "metadata": {
    "colab": {
      "provenance": []
    },
    "kernelspec": {
      "display_name": "Python 3",
      "name": "python3"
    },
    "language_info": {
      "name": "python"
    }
  },
  "nbformat": 4,
  "nbformat_minor": 0
}